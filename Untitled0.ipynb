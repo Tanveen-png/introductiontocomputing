{
  "nbformat": 4,
  "nbformat_minor": 0,
  "metadata": {
    "colab": {
      "name": "Untitled0.ipynb",
      "provenance": [],
      "authorship_tag": "ABX9TyM4u53ch3NQPfDqP4WK/lH4",
      "include_colab_link": true
    },
    "kernelspec": {
      "name": "python3",
      "display_name": "Python 3"
    },
    "language_info": {
      "name": "python"
    }
  },
  "cells": [
    {
      "cell_type": "markdown",
      "metadata": {
        "id": "view-in-github",
        "colab_type": "text"
      },
      "source": [
        "<a href=\"https://colab.research.google.com/github/Tanveen-png/introductiontocomputing/blob/main/Untitled0.ipynb\" target=\"_parent\"><img src=\"https://colab.research.google.com/assets/colab-badge.svg\" alt=\"Open In Colab\"/></a>"
      ]
    },
    {
      "cell_type": "code",
      "execution_count": 2,
      "metadata": {
        "colab": {
          "base_uri": "https://localhost:8080/"
        },
        "id": "duEVsMm8Y9dT",
        "outputId": "9624991e-6c15-4d94-fa5a-c97ac02c557b"
      },
      "outputs": [
        {
          "output_type": "stream",
          "name": "stdout",
          "text": [
            "35\n",
            "egaugnal evitisnes esac a si nohtyP\n",
            " a case sensitive\n",
            "Python is object oriented language\n",
            "10\n",
            "Pythonisacasesensitivelanguage\n"
          ]
        }
      ],
      "source": [
        "input_string=\"Python is a case sensitive language\"\n",
        "print(len(input_string))\n",
        "print(input_string[::-1])\n",
        "print(input_string[9:26])\n",
        "print(input_string[:10:]+'object oriented'+input_string[26:])\n",
        "print(input_string.find('a'))\n",
        "print(input_string.replace(' ',''))"
      ]
    },
    {
      "cell_type": "code",
      "source": [
        "Name='Anushka Gupta'\n",
        "SID=21107103\n",
        "Department='Mechanical'\n",
        "CGPA=9.9\n",
        "\n",
        "print('Hey, '+Name+' Here!\\nMy SID is ' + str(SID)+'\\nI am from '+Department+' Department and my CGPA is '+str(CGPA))"
      ],
      "metadata": {
        "id": "TTnar7EBZqMv"
      },
      "execution_count": null,
      "outputs": []
    },
    {
      "cell_type": "code",
      "source": [
        "a=56\n",
        "b=10\n",
        "print('a&b = '+ str(a&b))\n",
        "print('a|b = '+ str(a|b))\n",
        "print('a^b = '+ str(a^b))\n",
        "print('a shifted left by 2 bits is ',str(a<<2)+' and b shifted left by 2 bits is '+str(b<<2))\n",
        "print('a shifted right by 2 bits is ',str(a>>2)+' and b shifted right by 2 bits '+str(b>>2))"
      ],
      "metadata": {
        "colab": {
          "base_uri": "https://localhost:8080/"
        },
        "id": "7HzySX4rY-qi",
        "outputId": "8a9c4746-04e5-4e7b-b862-25f5e7a71d77"
      },
      "execution_count": 1,
      "outputs": [
        {
          "output_type": "stream",
          "name": "stdout",
          "text": [
            "a&b = 8\n",
            "a|b = 58\n",
            "a^b = 50\n",
            "a shifted left by 2 bits is  224 and b shifted left by 2 bits is 40\n",
            "a shifted right by 2 bits is  14 and b shifted right by 2 bits 2\n"
          ]
        }
      ]
    },
    {
      "cell_type": "code",
      "source": [
        "if 'name' in input('enter a string:'):\n",
        "    print('yes')\n",
        "else:\n",
        "        print('No')"
      ],
      "metadata": {
        "colab": {
          "base_uri": "https://localhost:8080/"
        },
        "id": "-bNha6crZem2",
        "outputId": "58fcdc73-205c-4ef8-a1d7-b91492d637a7"
      },
      "execution_count": 3,
      "outputs": [
        {
          "output_type": "stream",
          "name": "stdout",
          "text": [
            "enter a string:4\n",
            "No\n"
          ]
        }
      ]
    },
    {
      "cell_type": "code",
      "source": [
        "a=float(input('Enter first side '))\n",
        "b=float(input('Enter second side '))\n",
        "c=float(input('Enter third side '))\n",
        "\n",
        "Result = ((a+b>c) & (a+c>b) & (b+c>a)) ==1\n",
        "\n",
        "print(str(Result).replace('True','Yes').replace('False', 'No'))"
      ],
      "metadata": {
        "colab": {
          "base_uri": "https://localhost:8080/"
        },
        "id": "vSm_TIEWat_Z",
        "outputId": "e91aa5c4-943d-48c1-be7d-80b598c7ea3d"
      },
      "execution_count": 7,
      "outputs": [
        {
          "output_type": "stream",
          "name": "stdout",
          "text": [
            "Enter first side 3\n",
            "Enter second side 5\n",
            "Enter third side 6\n",
            "Yes\n"
          ]
        }
      ]
    },
    {
      "cell_type": "code",
      "source": [
        "a=int(input('enter the first number:'))\n",
        "b=int(input('enter the second number:'))\n",
        "print((str(bin(a^b)).count('1')))"
      ],
      "metadata": {
        "colab": {
          "base_uri": "https://localhost:8080/"
        },
        "id": "Zdw9acwHaPEa",
        "outputId": "5acad683-8d56-479b-b4b0-09b42db750e5"
      },
      "execution_count": 5,
      "outputs": [
        {
          "output_type": "stream",
          "name": "stdout",
          "text": [
            "enter the first number:3\n",
            "enter the second number:4\n",
            "3\n"
          ]
        }
      ]
    }
  ]
}